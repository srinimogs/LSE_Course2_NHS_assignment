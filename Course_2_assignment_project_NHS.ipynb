{
 "cells": [
  {
   "cell_type": "code",
   "execution_count": 1,
   "id": "0fe8d2a3",
   "metadata": {},
   "outputs": [],
   "source": [
    "import pandas as pd\n",
    "import numpy as np"
   ]
  },
  {
   "cell_type": "markdown",
   "id": "e7e83ef8",
   "metadata": {},
   "source": [
    "# To import CSV files and check if they load correctly"
   ]
  },
  {
   "cell_type": "code",
   "execution_count": 2,
   "id": "16706958",
   "metadata": {
    "scrolled": true
   },
   "outputs": [
    {
     "data": {
      "text/html": [
       "<div>\n",
       "<style scoped>\n",
       "    .dataframe tbody tr th:only-of-type {\n",
       "        vertical-align: middle;\n",
       "    }\n",
       "\n",
       "    .dataframe tbody tr th {\n",
       "        vertical-align: top;\n",
       "    }\n",
       "\n",
       "    .dataframe thead th {\n",
       "        text-align: right;\n",
       "    }\n",
       "</style>\n",
       "<table border=\"1\" class=\"dataframe\">\n",
       "  <thead>\n",
       "    <tr style=\"text-align: right;\">\n",
       "      <th></th>\n",
       "      <th>sub_icb_location_code</th>\n",
       "      <th>sub_icb_location_ons_code</th>\n",
       "      <th>sub_icb_location_name</th>\n",
       "      <th>icb_ons_code</th>\n",
       "      <th>region_ons_code</th>\n",
       "      <th>appointment_date</th>\n",
       "      <th>actual_duration</th>\n",
       "      <th>count_of_appointments</th>\n",
       "    </tr>\n",
       "  </thead>\n",
       "  <tbody>\n",
       "    <tr>\n",
       "      <th>0</th>\n",
       "      <td>00L</td>\n",
       "      <td>E38000130</td>\n",
       "      <td>NHS North East and North Cumbria ICB - 00L</td>\n",
       "      <td>E54000050</td>\n",
       "      <td>E40000012</td>\n",
       "      <td>01-Dec-21</td>\n",
       "      <td>31-60 Minutes</td>\n",
       "      <td>364</td>\n",
       "    </tr>\n",
       "    <tr>\n",
       "      <th>1</th>\n",
       "      <td>00L</td>\n",
       "      <td>E38000130</td>\n",
       "      <td>NHS North East and North Cumbria ICB - 00L</td>\n",
       "      <td>E54000050</td>\n",
       "      <td>E40000012</td>\n",
       "      <td>01-Dec-21</td>\n",
       "      <td>21-30 Minutes</td>\n",
       "      <td>619</td>\n",
       "    </tr>\n",
       "    <tr>\n",
       "      <th>2</th>\n",
       "      <td>00L</td>\n",
       "      <td>E38000130</td>\n",
       "      <td>NHS North East and North Cumbria ICB - 00L</td>\n",
       "      <td>E54000050</td>\n",
       "      <td>E40000012</td>\n",
       "      <td>01-Dec-21</td>\n",
       "      <td>6-10 Minutes</td>\n",
       "      <td>1698</td>\n",
       "    </tr>\n",
       "    <tr>\n",
       "      <th>3</th>\n",
       "      <td>00L</td>\n",
       "      <td>E38000130</td>\n",
       "      <td>NHS North East and North Cumbria ICB - 00L</td>\n",
       "      <td>E54000050</td>\n",
       "      <td>E40000012</td>\n",
       "      <td>01-Dec-21</td>\n",
       "      <td>Unknown / Data Quality</td>\n",
       "      <td>1277</td>\n",
       "    </tr>\n",
       "    <tr>\n",
       "      <th>4</th>\n",
       "      <td>00L</td>\n",
       "      <td>E38000130</td>\n",
       "      <td>NHS North East and North Cumbria ICB - 00L</td>\n",
       "      <td>E54000050</td>\n",
       "      <td>E40000012</td>\n",
       "      <td>01-Dec-21</td>\n",
       "      <td>16-20 Minutes</td>\n",
       "      <td>730</td>\n",
       "    </tr>\n",
       "    <tr>\n",
       "      <th>...</th>\n",
       "      <td>...</td>\n",
       "      <td>...</td>\n",
       "      <td>...</td>\n",
       "      <td>...</td>\n",
       "      <td>...</td>\n",
       "      <td>...</td>\n",
       "      <td>...</td>\n",
       "      <td>...</td>\n",
       "    </tr>\n",
       "    <tr>\n",
       "      <th>137788</th>\n",
       "      <td>X2C4Y</td>\n",
       "      <td>E38000254</td>\n",
       "      <td>NHS West Yorkshire ICB - X2C4Y</td>\n",
       "      <td>E54000054</td>\n",
       "      <td>E40000012</td>\n",
       "      <td>30-Jun-22</td>\n",
       "      <td>31-60 Minutes</td>\n",
       "      <td>430</td>\n",
       "    </tr>\n",
       "    <tr>\n",
       "      <th>137789</th>\n",
       "      <td>X2C4Y</td>\n",
       "      <td>E38000254</td>\n",
       "      <td>NHS West Yorkshire ICB - X2C4Y</td>\n",
       "      <td>E54000054</td>\n",
       "      <td>E40000012</td>\n",
       "      <td>30-Jun-22</td>\n",
       "      <td>21-30 Minutes</td>\n",
       "      <td>751</td>\n",
       "    </tr>\n",
       "    <tr>\n",
       "      <th>137790</th>\n",
       "      <td>X2C4Y</td>\n",
       "      <td>E38000254</td>\n",
       "      <td>NHS West Yorkshire ICB - X2C4Y</td>\n",
       "      <td>E54000054</td>\n",
       "      <td>E40000012</td>\n",
       "      <td>30-Jun-22</td>\n",
       "      <td>16-20 Minutes</td>\n",
       "      <td>921</td>\n",
       "    </tr>\n",
       "    <tr>\n",
       "      <th>137791</th>\n",
       "      <td>X2C4Y</td>\n",
       "      <td>E38000254</td>\n",
       "      <td>NHS West Yorkshire ICB - X2C4Y</td>\n",
       "      <td>E54000054</td>\n",
       "      <td>E40000012</td>\n",
       "      <td>30-Jun-22</td>\n",
       "      <td>11-15 Minutes</td>\n",
       "      <td>1439</td>\n",
       "    </tr>\n",
       "    <tr>\n",
       "      <th>137792</th>\n",
       "      <td>X2C4Y</td>\n",
       "      <td>E38000254</td>\n",
       "      <td>NHS West Yorkshire ICB - X2C4Y</td>\n",
       "      <td>E54000054</td>\n",
       "      <td>E40000012</td>\n",
       "      <td>30-Jun-22</td>\n",
       "      <td>1-5 Minutes</td>\n",
       "      <td>1739</td>\n",
       "    </tr>\n",
       "  </tbody>\n",
       "</table>\n",
       "<p>137793 rows × 8 columns</p>\n",
       "</div>"
      ],
      "text/plain": [
       "       sub_icb_location_code sub_icb_location_ons_code  \\\n",
       "0                        00L                 E38000130   \n",
       "1                        00L                 E38000130   \n",
       "2                        00L                 E38000130   \n",
       "3                        00L                 E38000130   \n",
       "4                        00L                 E38000130   \n",
       "...                      ...                       ...   \n",
       "137788                 X2C4Y                 E38000254   \n",
       "137789                 X2C4Y                 E38000254   \n",
       "137790                 X2C4Y                 E38000254   \n",
       "137791                 X2C4Y                 E38000254   \n",
       "137792                 X2C4Y                 E38000254   \n",
       "\n",
       "                             sub_icb_location_name icb_ons_code  \\\n",
       "0       NHS North East and North Cumbria ICB - 00L    E54000050   \n",
       "1       NHS North East and North Cumbria ICB - 00L    E54000050   \n",
       "2       NHS North East and North Cumbria ICB - 00L    E54000050   \n",
       "3       NHS North East and North Cumbria ICB - 00L    E54000050   \n",
       "4       NHS North East and North Cumbria ICB - 00L    E54000050   \n",
       "...                                            ...          ...   \n",
       "137788              NHS West Yorkshire ICB - X2C4Y    E54000054   \n",
       "137789              NHS West Yorkshire ICB - X2C4Y    E54000054   \n",
       "137790              NHS West Yorkshire ICB - X2C4Y    E54000054   \n",
       "137791              NHS West Yorkshire ICB - X2C4Y    E54000054   \n",
       "137792              NHS West Yorkshire ICB - X2C4Y    E54000054   \n",
       "\n",
       "       region_ons_code appointment_date         actual_duration  \\\n",
       "0            E40000012        01-Dec-21           31-60 Minutes   \n",
       "1            E40000012        01-Dec-21           21-30 Minutes   \n",
       "2            E40000012        01-Dec-21            6-10 Minutes   \n",
       "3            E40000012        01-Dec-21  Unknown / Data Quality   \n",
       "4            E40000012        01-Dec-21           16-20 Minutes   \n",
       "...                ...              ...                     ...   \n",
       "137788       E40000012        30-Jun-22           31-60 Minutes   \n",
       "137789       E40000012        30-Jun-22           21-30 Minutes   \n",
       "137790       E40000012        30-Jun-22           16-20 Minutes   \n",
       "137791       E40000012        30-Jun-22           11-15 Minutes   \n",
       "137792       E40000012        30-Jun-22             1-5 Minutes   \n",
       "\n",
       "        count_of_appointments  \n",
       "0                         364  \n",
       "1                         619  \n",
       "2                        1698  \n",
       "3                        1277  \n",
       "4                         730  \n",
       "...                       ...  \n",
       "137788                    430  \n",
       "137789                    751  \n",
       "137790                    921  \n",
       "137791                   1439  \n",
       "137792                   1739  \n",
       "\n",
       "[137793 rows x 8 columns]"
      ]
     },
     "execution_count": 2,
     "metadata": {},
     "output_type": "execute_result"
    }
   ],
   "source": [
    "ad = pd.read_csv('actual_duration.csv')\n",
    "ad"
   ]
  },
  {
   "cell_type": "code",
   "execution_count": 3,
   "id": "571609bd",
   "metadata": {},
   "outputs": [
    {
     "data": {
      "text/html": [
       "<div>\n",
       "<style scoped>\n",
       "    .dataframe tbody tr th:only-of-type {\n",
       "        vertical-align: middle;\n",
       "    }\n",
       "\n",
       "    .dataframe tbody tr th {\n",
       "        vertical-align: top;\n",
       "    }\n",
       "\n",
       "    .dataframe thead th {\n",
       "        text-align: right;\n",
       "    }\n",
       "</style>\n",
       "<table border=\"1\" class=\"dataframe\">\n",
       "  <thead>\n",
       "    <tr style=\"text-align: right;\">\n",
       "      <th></th>\n",
       "      <th>icb_ons_code</th>\n",
       "      <th>appointment_month</th>\n",
       "      <th>appointment_status</th>\n",
       "      <th>hcp_type</th>\n",
       "      <th>appointment_mode</th>\n",
       "      <th>time_between_book_and_appointment</th>\n",
       "      <th>count_of_appointments</th>\n",
       "    </tr>\n",
       "  </thead>\n",
       "  <tbody>\n",
       "    <tr>\n",
       "      <th>0</th>\n",
       "      <td>E54000034</td>\n",
       "      <td>2020-01</td>\n",
       "      <td>Attended</td>\n",
       "      <td>GP</td>\n",
       "      <td>Face-to-Face</td>\n",
       "      <td>1 Day</td>\n",
       "      <td>8107</td>\n",
       "    </tr>\n",
       "    <tr>\n",
       "      <th>1</th>\n",
       "      <td>E54000034</td>\n",
       "      <td>2020-01</td>\n",
       "      <td>Attended</td>\n",
       "      <td>GP</td>\n",
       "      <td>Face-to-Face</td>\n",
       "      <td>15  to 21 Days</td>\n",
       "      <td>6791</td>\n",
       "    </tr>\n",
       "    <tr>\n",
       "      <th>2</th>\n",
       "      <td>E54000034</td>\n",
       "      <td>2020-01</td>\n",
       "      <td>Attended</td>\n",
       "      <td>GP</td>\n",
       "      <td>Face-to-Face</td>\n",
       "      <td>2 to 7 Days</td>\n",
       "      <td>20686</td>\n",
       "    </tr>\n",
       "    <tr>\n",
       "      <th>3</th>\n",
       "      <td>E54000034</td>\n",
       "      <td>2020-01</td>\n",
       "      <td>Attended</td>\n",
       "      <td>GP</td>\n",
       "      <td>Face-to-Face</td>\n",
       "      <td>22  to 28 Days</td>\n",
       "      <td>4268</td>\n",
       "    </tr>\n",
       "    <tr>\n",
       "      <th>4</th>\n",
       "      <td>E54000034</td>\n",
       "      <td>2020-01</td>\n",
       "      <td>Attended</td>\n",
       "      <td>GP</td>\n",
       "      <td>Face-to-Face</td>\n",
       "      <td>8  to 14 Days</td>\n",
       "      <td>11971</td>\n",
       "    </tr>\n",
       "    <tr>\n",
       "      <th>...</th>\n",
       "      <td>...</td>\n",
       "      <td>...</td>\n",
       "      <td>...</td>\n",
       "      <td>...</td>\n",
       "      <td>...</td>\n",
       "      <td>...</td>\n",
       "      <td>...</td>\n",
       "    </tr>\n",
       "    <tr>\n",
       "      <th>596816</th>\n",
       "      <td>E54000050</td>\n",
       "      <td>2022-06</td>\n",
       "      <td>Unknown</td>\n",
       "      <td>Unknown</td>\n",
       "      <td>Unknown</td>\n",
       "      <td>2 to 7 Days</td>\n",
       "      <td>21</td>\n",
       "    </tr>\n",
       "    <tr>\n",
       "      <th>596817</th>\n",
       "      <td>E54000050</td>\n",
       "      <td>2022-06</td>\n",
       "      <td>Unknown</td>\n",
       "      <td>Unknown</td>\n",
       "      <td>Unknown</td>\n",
       "      <td>22  to 28 Days</td>\n",
       "      <td>8</td>\n",
       "    </tr>\n",
       "    <tr>\n",
       "      <th>596818</th>\n",
       "      <td>E54000050</td>\n",
       "      <td>2022-06</td>\n",
       "      <td>Unknown</td>\n",
       "      <td>Unknown</td>\n",
       "      <td>Unknown</td>\n",
       "      <td>8  to 14 Days</td>\n",
       "      <td>28</td>\n",
       "    </tr>\n",
       "    <tr>\n",
       "      <th>596819</th>\n",
       "      <td>E54000050</td>\n",
       "      <td>2022-06</td>\n",
       "      <td>Unknown</td>\n",
       "      <td>Unknown</td>\n",
       "      <td>Unknown</td>\n",
       "      <td>More than 28 Days</td>\n",
       "      <td>17</td>\n",
       "    </tr>\n",
       "    <tr>\n",
       "      <th>596820</th>\n",
       "      <td>E54000050</td>\n",
       "      <td>2022-06</td>\n",
       "      <td>Unknown</td>\n",
       "      <td>Unknown</td>\n",
       "      <td>Unknown</td>\n",
       "      <td>Same Day</td>\n",
       "      <td>10</td>\n",
       "    </tr>\n",
       "  </tbody>\n",
       "</table>\n",
       "<p>596821 rows × 7 columns</p>\n",
       "</div>"
      ],
      "text/plain": [
       "       icb_ons_code appointment_month appointment_status hcp_type  \\\n",
       "0         E54000034           2020-01           Attended       GP   \n",
       "1         E54000034           2020-01           Attended       GP   \n",
       "2         E54000034           2020-01           Attended       GP   \n",
       "3         E54000034           2020-01           Attended       GP   \n",
       "4         E54000034           2020-01           Attended       GP   \n",
       "...             ...               ...                ...      ...   \n",
       "596816    E54000050           2022-06            Unknown  Unknown   \n",
       "596817    E54000050           2022-06            Unknown  Unknown   \n",
       "596818    E54000050           2022-06            Unknown  Unknown   \n",
       "596819    E54000050           2022-06            Unknown  Unknown   \n",
       "596820    E54000050           2022-06            Unknown  Unknown   \n",
       "\n",
       "       appointment_mode time_between_book_and_appointment  \\\n",
       "0          Face-to-Face                             1 Day   \n",
       "1          Face-to-Face                    15  to 21 Days   \n",
       "2          Face-to-Face                       2 to 7 Days   \n",
       "3          Face-to-Face                    22  to 28 Days   \n",
       "4          Face-to-Face                     8  to 14 Days   \n",
       "...                 ...                               ...   \n",
       "596816          Unknown                       2 to 7 Days   \n",
       "596817          Unknown                    22  to 28 Days   \n",
       "596818          Unknown                     8  to 14 Days   \n",
       "596819          Unknown                 More than 28 Days   \n",
       "596820          Unknown                          Same Day   \n",
       "\n",
       "        count_of_appointments  \n",
       "0                        8107  \n",
       "1                        6791  \n",
       "2                       20686  \n",
       "3                        4268  \n",
       "4                       11971  \n",
       "...                       ...  \n",
       "596816                     21  \n",
       "596817                      8  \n",
       "596818                     28  \n",
       "596819                     17  \n",
       "596820                     10  \n",
       "\n",
       "[596821 rows x 7 columns]"
      ]
     },
     "execution_count": 3,
     "metadata": {},
     "output_type": "execute_result"
    }
   ],
   "source": [
    "ar = pd.read_csv('appointments_regional.csv')\n",
    "ar"
   ]
  },
  {
   "cell_type": "code",
   "execution_count": 4,
   "id": "fcbcbca8",
   "metadata": {
    "scrolled": true
   },
   "outputs": [
    {
     "data": {
      "text/html": [
       "<div>\n",
       "<style scoped>\n",
       "    .dataframe tbody tr th:only-of-type {\n",
       "        vertical-align: middle;\n",
       "    }\n",
       "\n",
       "    .dataframe tbody tr th {\n",
       "        vertical-align: top;\n",
       "    }\n",
       "\n",
       "    .dataframe thead th {\n",
       "        text-align: right;\n",
       "    }\n",
       "</style>\n",
       "<table border=\"1\" class=\"dataframe\">\n",
       "  <thead>\n",
       "    <tr style=\"text-align: right;\">\n",
       "      <th></th>\n",
       "      <th>appointment_date</th>\n",
       "      <th>icb_ons_code</th>\n",
       "      <th>sub_icb_location_name</th>\n",
       "      <th>service_setting</th>\n",
       "      <th>context_type</th>\n",
       "      <th>national_category</th>\n",
       "      <th>count_of_appointments</th>\n",
       "      <th>appointment_month</th>\n",
       "    </tr>\n",
       "  </thead>\n",
       "  <tbody>\n",
       "    <tr>\n",
       "      <th>0</th>\n",
       "      <td>2021-08-02</td>\n",
       "      <td>E54000050</td>\n",
       "      <td>NHS North East and North Cumbria ICB - 00L</td>\n",
       "      <td>Primary Care Network</td>\n",
       "      <td>Care Related Encounter</td>\n",
       "      <td>Patient contact during Care Home Round</td>\n",
       "      <td>3</td>\n",
       "      <td>2021-08</td>\n",
       "    </tr>\n",
       "    <tr>\n",
       "      <th>1</th>\n",
       "      <td>2021-08-02</td>\n",
       "      <td>E54000050</td>\n",
       "      <td>NHS North East and North Cumbria ICB - 00L</td>\n",
       "      <td>Other</td>\n",
       "      <td>Care Related Encounter</td>\n",
       "      <td>Planned Clinics</td>\n",
       "      <td>7</td>\n",
       "      <td>2021-08</td>\n",
       "    </tr>\n",
       "    <tr>\n",
       "      <th>2</th>\n",
       "      <td>2021-08-02</td>\n",
       "      <td>E54000050</td>\n",
       "      <td>NHS North East and North Cumbria ICB - 00L</td>\n",
       "      <td>General Practice</td>\n",
       "      <td>Care Related Encounter</td>\n",
       "      <td>Home Visit</td>\n",
       "      <td>79</td>\n",
       "      <td>2021-08</td>\n",
       "    </tr>\n",
       "    <tr>\n",
       "      <th>3</th>\n",
       "      <td>2021-08-02</td>\n",
       "      <td>E54000050</td>\n",
       "      <td>NHS North East and North Cumbria ICB - 00L</td>\n",
       "      <td>General Practice</td>\n",
       "      <td>Care Related Encounter</td>\n",
       "      <td>General Consultation Acute</td>\n",
       "      <td>725</td>\n",
       "      <td>2021-08</td>\n",
       "    </tr>\n",
       "    <tr>\n",
       "      <th>4</th>\n",
       "      <td>2021-08-02</td>\n",
       "      <td>E54000050</td>\n",
       "      <td>NHS North East and North Cumbria ICB - 00L</td>\n",
       "      <td>General Practice</td>\n",
       "      <td>Care Related Encounter</td>\n",
       "      <td>Structured Medication Review</td>\n",
       "      <td>2</td>\n",
       "      <td>2021-08</td>\n",
       "    </tr>\n",
       "    <tr>\n",
       "      <th>...</th>\n",
       "      <td>...</td>\n",
       "      <td>...</td>\n",
       "      <td>...</td>\n",
       "      <td>...</td>\n",
       "      <td>...</td>\n",
       "      <td>...</td>\n",
       "      <td>...</td>\n",
       "      <td>...</td>\n",
       "    </tr>\n",
       "    <tr>\n",
       "      <th>817389</th>\n",
       "      <td>2022-06-30</td>\n",
       "      <td>E54000054</td>\n",
       "      <td>NHS West Yorkshire ICB - X2C4Y</td>\n",
       "      <td>Extended Access Provision</td>\n",
       "      <td>Care Related Encounter</td>\n",
       "      <td>Unplanned Clinical Activity</td>\n",
       "      <td>12</td>\n",
       "      <td>2022-06</td>\n",
       "    </tr>\n",
       "    <tr>\n",
       "      <th>817390</th>\n",
       "      <td>2022-06-30</td>\n",
       "      <td>E54000054</td>\n",
       "      <td>NHS West Yorkshire ICB - X2C4Y</td>\n",
       "      <td>Extended Access Provision</td>\n",
       "      <td>Care Related Encounter</td>\n",
       "      <td>Planned Clinics</td>\n",
       "      <td>4</td>\n",
       "      <td>2022-06</td>\n",
       "    </tr>\n",
       "    <tr>\n",
       "      <th>817391</th>\n",
       "      <td>2022-06-30</td>\n",
       "      <td>E54000054</td>\n",
       "      <td>NHS West Yorkshire ICB - X2C4Y</td>\n",
       "      <td>Extended Access Provision</td>\n",
       "      <td>Care Related Encounter</td>\n",
       "      <td>Planned Clinical Procedure</td>\n",
       "      <td>92</td>\n",
       "      <td>2022-06</td>\n",
       "    </tr>\n",
       "    <tr>\n",
       "      <th>817392</th>\n",
       "      <td>2022-06-30</td>\n",
       "      <td>E54000054</td>\n",
       "      <td>NHS West Yorkshire ICB - X2C4Y</td>\n",
       "      <td>Extended Access Provision</td>\n",
       "      <td>Care Related Encounter</td>\n",
       "      <td>General Consultation Routine</td>\n",
       "      <td>4</td>\n",
       "      <td>2022-06</td>\n",
       "    </tr>\n",
       "    <tr>\n",
       "      <th>817393</th>\n",
       "      <td>2022-06-30</td>\n",
       "      <td>E54000054</td>\n",
       "      <td>NHS West Yorkshire ICB - X2C4Y</td>\n",
       "      <td>Extended Access Provision</td>\n",
       "      <td>Care Related Encounter</td>\n",
       "      <td>General Consultation Acute</td>\n",
       "      <td>19</td>\n",
       "      <td>2022-06</td>\n",
       "    </tr>\n",
       "  </tbody>\n",
       "</table>\n",
       "<p>817394 rows × 8 columns</p>\n",
       "</div>"
      ],
      "text/plain": [
       "       appointment_date icb_ons_code  \\\n",
       "0            2021-08-02    E54000050   \n",
       "1            2021-08-02    E54000050   \n",
       "2            2021-08-02    E54000050   \n",
       "3            2021-08-02    E54000050   \n",
       "4            2021-08-02    E54000050   \n",
       "...                 ...          ...   \n",
       "817389       2022-06-30    E54000054   \n",
       "817390       2022-06-30    E54000054   \n",
       "817391       2022-06-30    E54000054   \n",
       "817392       2022-06-30    E54000054   \n",
       "817393       2022-06-30    E54000054   \n",
       "\n",
       "                             sub_icb_location_name            service_setting  \\\n",
       "0       NHS North East and North Cumbria ICB - 00L       Primary Care Network   \n",
       "1       NHS North East and North Cumbria ICB - 00L                      Other   \n",
       "2       NHS North East and North Cumbria ICB - 00L           General Practice   \n",
       "3       NHS North East and North Cumbria ICB - 00L           General Practice   \n",
       "4       NHS North East and North Cumbria ICB - 00L           General Practice   \n",
       "...                                            ...                        ...   \n",
       "817389              NHS West Yorkshire ICB - X2C4Y  Extended Access Provision   \n",
       "817390              NHS West Yorkshire ICB - X2C4Y  Extended Access Provision   \n",
       "817391              NHS West Yorkshire ICB - X2C4Y  Extended Access Provision   \n",
       "817392              NHS West Yorkshire ICB - X2C4Y  Extended Access Provision   \n",
       "817393              NHS West Yorkshire ICB - X2C4Y  Extended Access Provision   \n",
       "\n",
       "                  context_type                       national_category  \\\n",
       "0       Care Related Encounter  Patient contact during Care Home Round   \n",
       "1       Care Related Encounter                         Planned Clinics   \n",
       "2       Care Related Encounter                              Home Visit   \n",
       "3       Care Related Encounter              General Consultation Acute   \n",
       "4       Care Related Encounter            Structured Medication Review   \n",
       "...                        ...                                     ...   \n",
       "817389  Care Related Encounter             Unplanned Clinical Activity   \n",
       "817390  Care Related Encounter                         Planned Clinics   \n",
       "817391  Care Related Encounter              Planned Clinical Procedure   \n",
       "817392  Care Related Encounter            General Consultation Routine   \n",
       "817393  Care Related Encounter              General Consultation Acute   \n",
       "\n",
       "        count_of_appointments appointment_month  \n",
       "0                           3           2021-08  \n",
       "1                           7           2021-08  \n",
       "2                          79           2021-08  \n",
       "3                         725           2021-08  \n",
       "4                           2           2021-08  \n",
       "...                       ...               ...  \n",
       "817389                     12           2022-06  \n",
       "817390                      4           2022-06  \n",
       "817391                     92           2022-06  \n",
       "817392                      4           2022-06  \n",
       "817393                     19           2022-06  \n",
       "\n",
       "[817394 rows x 8 columns]"
      ]
     },
     "execution_count": 4,
     "metadata": {},
     "output_type": "execute_result"
    }
   ],
   "source": [
    "nc = pd.read_csv('national_categories.csv')\n",
    "nc"
   ]
  },
  {
   "cell_type": "markdown",
   "id": "c4b96eaa",
   "metadata": {},
   "source": [
    "# to show column names in the data files"
   ]
  },
  {
   "cell_type": "code",
   "execution_count": 5,
   "id": "4b17faa8",
   "metadata": {
    "scrolled": true
   },
   "outputs": [
    {
     "name": "stdout",
     "output_type": "stream",
     "text": [
      "Index(['sub_icb_location_code', 'sub_icb_location_ons_code',\n",
      "       'sub_icb_location_name', 'icb_ons_code', 'region_ons_code',\n",
      "       'appointment_date', 'actual_duration', 'count_of_appointments'],\n",
      "      dtype='object')\n"
     ]
    }
   ],
   "source": [
    "# ad = actual_duration.csv data file\n",
    "print(ad.columns)"
   ]
  },
  {
   "cell_type": "code",
   "execution_count": 6,
   "id": "74f46fcd",
   "metadata": {},
   "outputs": [
    {
     "name": "stdout",
     "output_type": "stream",
     "text": [
      "Index(['appointment_date', 'icb_ons_code', 'sub_icb_location_name',\n",
      "       'service_setting', 'context_type', 'national_category',\n",
      "       'count_of_appointments', 'appointment_month'],\n",
      "      dtype='object')\n"
     ]
    }
   ],
   "source": [
    "# nc = national_category.csv data file\n",
    "print(nc.columns)"
   ]
  },
  {
   "cell_type": "code",
   "execution_count": 7,
   "id": "cf70b70e",
   "metadata": {
    "scrolled": true
   },
   "outputs": [
    {
     "name": "stdout",
     "output_type": "stream",
     "text": [
      "Index(['icb_ons_code', 'appointment_month', 'appointment_status', 'hcp_type',\n",
      "       'appointment_mode', 'time_between_book_and_appointment',\n",
      "       'count_of_appointments'],\n",
      "      dtype='object')\n"
     ]
    }
   ],
   "source": [
    "# ar = appointments_regional.csv data file\n",
    "print(ar.columns)"
   ]
  },
  {
   "cell_type": "markdown",
   "id": "01a4414d",
   "metadata": {},
   "source": [
    "# to show the data types in the data files"
   ]
  },
  {
   "cell_type": "code",
   "execution_count": 8,
   "id": "16955369",
   "metadata": {},
   "outputs": [
    {
     "data": {
      "text/plain": [
       "icb_ons_code                         object\n",
       "appointment_month                    object\n",
       "appointment_status                   object\n",
       "hcp_type                             object\n",
       "appointment_mode                     object\n",
       "time_between_book_and_appointment    object\n",
       "count_of_appointments                 int64\n",
       "dtype: object"
      ]
     },
     "execution_count": 8,
     "metadata": {},
     "output_type": "execute_result"
    }
   ],
   "source": [
    "# ar = appointments_regional.csv data file\n",
    "ar.dtypes"
   ]
  },
  {
   "cell_type": "code",
   "execution_count": 9,
   "id": "4aad9dd1",
   "metadata": {
    "scrolled": true
   },
   "outputs": [
    {
     "data": {
      "text/plain": [
       "appointment_date         object\n",
       "icb_ons_code             object\n",
       "sub_icb_location_name    object\n",
       "service_setting          object\n",
       "context_type             object\n",
       "national_category        object\n",
       "count_of_appointments     int64\n",
       "appointment_month        object\n",
       "dtype: object"
      ]
     },
     "execution_count": 9,
     "metadata": {},
     "output_type": "execute_result"
    }
   ],
   "source": [
    "# nc = national_category.csv data file\n",
    "nc.dtypes"
   ]
  },
  {
   "cell_type": "code",
   "execution_count": 10,
   "id": "9b94f3e8",
   "metadata": {
    "scrolled": true
   },
   "outputs": [
    {
     "data": {
      "text/plain": [
       "sub_icb_location_code        object\n",
       "sub_icb_location_ons_code    object\n",
       "sub_icb_location_name        object\n",
       "icb_ons_code                 object\n",
       "region_ons_code              object\n",
       "appointment_date             object\n",
       "actual_duration              object\n",
       "count_of_appointments         int64\n",
       "dtype: object"
      ]
     },
     "execution_count": 10,
     "metadata": {},
     "output_type": "execute_result"
    }
   ],
   "source": [
    "# actual_duration.csv data file\n",
    "ad.dtypes"
   ]
  },
  {
   "cell_type": "markdown",
   "id": "dc4bb8e8",
   "metadata": {},
   "source": [
    "# check for missing values"
   ]
  },
  {
   "cell_type": "code",
   "execution_count": 36,
   "id": "e248c00a",
   "metadata": {},
   "outputs": [
    {
     "data": {
      "text/plain": [
       "(0, 8)"
      ]
     },
     "execution_count": 36,
     "metadata": {},
     "output_type": "execute_result"
    }
   ],
   "source": [
    "ad_na = ad[ad.isna().any(axis=1)]\n",
    "ad_na.shape"
   ]
  },
  {
   "cell_type": "code",
   "execution_count": 12,
   "id": "910fb682",
   "metadata": {},
   "outputs": [
    {
     "data": {
      "text/plain": [
       "(0, 7)"
      ]
     },
     "execution_count": 12,
     "metadata": {},
     "output_type": "execute_result"
    }
   ],
   "source": [
    "ar_na = ar[ar.isna().any(axis=1)]\n",
    "ar_na.shape"
   ]
  },
  {
   "cell_type": "code",
   "execution_count": 13,
   "id": "ae2f22e4",
   "metadata": {},
   "outputs": [
    {
     "data": {
      "text/plain": [
       "(0, 8)"
      ]
     },
     "execution_count": 13,
     "metadata": {},
     "output_type": "execute_result"
    }
   ],
   "source": [
    "nc_na = nc[nc.isna().any(axis=1)]\n",
    "nc_na.shape"
   ]
  },
  {
   "cell_type": "markdown",
   "id": "b6cbd86e",
   "metadata": {},
   "source": [
    "# to find out the number of columns and rows through metadata of file"
   ]
  },
  {
   "cell_type": "code",
   "execution_count": 14,
   "id": "8ad40e25",
   "metadata": {},
   "outputs": [
    {
     "name": "stdout",
     "output_type": "stream",
     "text": [
      "<class 'pandas.core.frame.DataFrame'>\n",
      "RangeIndex: 817394 entries, 0 to 817393\n",
      "Data columns (total 8 columns):\n",
      " #   Column                 Non-Null Count   Dtype \n",
      "---  ------                 --------------   ----- \n",
      " 0   appointment_date       817394 non-null  object\n",
      " 1   icb_ons_code           817394 non-null  object\n",
      " 2   sub_icb_location_name  817394 non-null  object\n",
      " 3   service_setting        817394 non-null  object\n",
      " 4   context_type           817394 non-null  object\n",
      " 5   national_category      817394 non-null  object\n",
      " 6   count_of_appointments  817394 non-null  int64 \n",
      " 7   appointment_month      817394 non-null  object\n",
      "dtypes: int64(1), object(7)\n",
      "memory usage: 49.9+ MB\n"
     ]
    }
   ],
   "source": [
    "# nc = national_category.csv data file\n",
    "nc.info()"
   ]
  },
  {
   "cell_type": "code",
   "execution_count": 15,
   "id": "67c2effb",
   "metadata": {},
   "outputs": [
    {
     "name": "stdout",
     "output_type": "stream",
     "text": [
      "<class 'pandas.core.frame.DataFrame'>\n",
      "RangeIndex: 137793 entries, 0 to 137792\n",
      "Data columns (total 8 columns):\n",
      " #   Column                     Non-Null Count   Dtype \n",
      "---  ------                     --------------   ----- \n",
      " 0   sub_icb_location_code      137793 non-null  object\n",
      " 1   sub_icb_location_ons_code  137793 non-null  object\n",
      " 2   sub_icb_location_name      137793 non-null  object\n",
      " 3   icb_ons_code               137793 non-null  object\n",
      " 4   region_ons_code            137793 non-null  object\n",
      " 5   appointment_date           137793 non-null  object\n",
      " 6   actual_duration            137793 non-null  object\n",
      " 7   count_of_appointments      137793 non-null  int64 \n",
      "dtypes: int64(1), object(7)\n",
      "memory usage: 8.4+ MB\n"
     ]
    }
   ],
   "source": [
    "# ad = actual_duration.csv data file\n",
    "ad.info()"
   ]
  },
  {
   "cell_type": "code",
   "execution_count": 16,
   "id": "f557395e",
   "metadata": {
    "scrolled": true
   },
   "outputs": [
    {
     "name": "stdout",
     "output_type": "stream",
     "text": [
      "<class 'pandas.core.frame.DataFrame'>\n",
      "RangeIndex: 596821 entries, 0 to 596820\n",
      "Data columns (total 7 columns):\n",
      " #   Column                             Non-Null Count   Dtype \n",
      "---  ------                             --------------   ----- \n",
      " 0   icb_ons_code                       596821 non-null  object\n",
      " 1   appointment_month                  596821 non-null  object\n",
      " 2   appointment_status                 596821 non-null  object\n",
      " 3   hcp_type                           596821 non-null  object\n",
      " 4   appointment_mode                   596821 non-null  object\n",
      " 5   time_between_book_and_appointment  596821 non-null  object\n",
      " 6   count_of_appointments              596821 non-null  int64 \n",
      "dtypes: int64(1), object(6)\n",
      "memory usage: 31.9+ MB\n"
     ]
    }
   ],
   "source": [
    "# ar = appointments_regional.csv data file\n",
    "ar.info()"
   ]
  },
  {
   "cell_type": "markdown",
   "id": "d76f71e2",
   "metadata": {},
   "source": [
    "# Total Number per location in the \"actual_duration.csv\" data file"
   ]
  },
  {
   "cell_type": "code",
   "execution_count": 17,
   "id": "9fe1d0e8",
   "metadata": {
    "scrolled": true
   },
   "outputs": [
    {
     "data": {
      "text/plain": [
       "NHS Norfolk and Waveney ICB - 26A                       1484\n",
       "NHS Kent and Medway ICB - 91Q                           1484\n",
       "NHS North West London ICB - W2U3Z                       1484\n",
       "NHS Bedfordshire Luton and Milton Keynes ICB - M1J4Y    1484\n",
       "NHS Greater Manchester ICB - 14L                        1484\n",
       "                                                        ... \n",
       "NHS Staffordshire and Stoke-on-Trent ICB - 05D          1051\n",
       "NHS South Yorkshire ICB - 03L                           1028\n",
       "NHS North East and North Cumbria ICB - 00P              1025\n",
       "NHS South Yorkshire ICB - 02P                           1022\n",
       "NHS Cheshire and Merseyside ICB - 01F                   1013\n",
       "Name: sub_icb_location_name, Length: 106, dtype: int64"
      ]
     },
     "execution_count": 17,
     "metadata": {},
     "output_type": "execute_result"
    }
   ],
   "source": [
    "ad['sub_icb_location_name'].value_counts()"
   ]
  },
  {
   "cell_type": "markdown",
   "id": "3d9119ce",
   "metadata": {},
   "source": [
    "# total number of locations in the \"actual_duration\" data file."
   ]
  },
  {
   "cell_type": "code",
   "execution_count": 18,
   "id": "623e9f20",
   "metadata": {
    "scrolled": true
   },
   "outputs": [
    {
     "name": "stdout",
     "output_type": "stream",
     "text": [
      "The Total Number of Locations is:  137793\n"
     ]
    }
   ],
   "source": [
    "ad_loc = ad['sub_icb_location_name'].value_counts()\n",
    "print(\"The Total Number of Locations are: \", ad_loc.sum())"
   ]
  },
  {
   "cell_type": "markdown",
   "id": "1beaad24",
   "metadata": {},
   "source": [
    "# total number of locations in the \"national_categories\" data file."
   ]
  },
  {
   "cell_type": "code",
   "execution_count": 19,
   "id": "8dd59885",
   "metadata": {},
   "outputs": [
    {
     "name": "stdout",
     "output_type": "stream",
     "text": [
      "The Total Number of Locations is:  817394\n"
     ]
    }
   ],
   "source": [
    "nc_loc = nc['sub_icb_location_name'].value_counts()\n",
    "print(\"The Total Number of Locations is: \", nc_loc.sum())"
   ]
  },
  {
   "cell_type": "markdown",
   "id": "241c503e",
   "metadata": {},
   "source": [
    "# 5 locations with highest number of records"
   ]
  },
  {
   "cell_type": "code",
   "execution_count": 20,
   "id": "564b0f56",
   "metadata": {},
   "outputs": [
    {
     "data": {
      "text/plain": [
       "['NHS Norfolk and Waveney ICB - 26A',\n",
       " 'NHS Kent and Medway ICB - 91Q',\n",
       " 'NHS North West London ICB - W2U3Z',\n",
       " 'NHS Bedfordshire Luton and Milton Keynes ICB - M1J4Y',\n",
       " 'NHS Greater Manchester ICB - 14L']"
      ]
     },
     "execution_count": 20,
     "metadata": {},
     "output_type": "execute_result"
    }
   ],
   "source": [
    "n = 5\n",
    "ad['sub_icb_location_name'].value_counts()[:5].index.tolist()"
   ]
  },
  {
   "cell_type": "code",
   "execution_count": 21,
   "id": "c1a3ae68",
   "metadata": {},
   "outputs": [],
   "source": [
    "import pandas as pd\n",
    "import numpy as np"
   ]
  },
  {
   "cell_type": "markdown",
   "id": "620a7fa0",
   "metadata": {},
   "source": [
    "# Occurrence of \"appointment status\" in the file"
   ]
  },
  {
   "cell_type": "code",
   "execution_count": 28,
   "id": "ba81e067",
   "metadata": {},
   "outputs": [
    {
     "data": {
      "text/plain": [
       "Attended    232137\n",
       "Unknown     201324\n",
       "DNA         163360\n",
       "Name: appointment_status, dtype: int64"
      ]
     },
     "execution_count": 28,
     "metadata": {},
     "output_type": "execute_result"
    }
   ],
   "source": [
    "# where DNA = Did Not Attend, Unknown = not recorded or data missing\n",
    "ar['appointment_status'].value_counts()"
   ]
  },
  {
   "cell_type": "code",
   "execution_count": 22,
   "id": "dc52c7fe",
   "metadata": {},
   "outputs": [
    {
     "name": "stdout",
     "output_type": "stream",
     "text": [
      "The Total Number of appointment statuses are:  596821\n"
     ]
    }
   ],
   "source": [
    "# number of appointment statuses\n",
    "ar_loc = ar['appointment_status'].value_counts()\n",
    "print(\"The Total Number of appointment statuses are: \", ar_loc.sum())"
   ]
  },
  {
   "cell_type": "markdown",
   "id": "5b86cbda",
   "metadata": {},
   "source": [
    "# Occurrence of \"service setting\" in the data file"
   ]
  },
  {
   "cell_type": "code",
   "execution_count": 24,
   "id": "a060c0bd",
   "metadata": {},
   "outputs": [
    {
     "data": {
      "text/plain": [
       "General Practice             359274\n",
       "Primary Care Network         183790\n",
       "Other                        138789\n",
       "Extended Access Provision    108122\n",
       "Unmapped                      27419\n",
       "Name: service_setting, dtype: int64"
      ]
     },
     "execution_count": 24,
     "metadata": {},
     "output_type": "execute_result"
    }
   ],
   "source": [
    "# to show number of times a service setting occurs in the file\n",
    "nc['service_setting'].value_counts()"
   ]
  },
  {
   "cell_type": "code",
   "execution_count": 27,
   "id": "e4f98834",
   "metadata": {},
   "outputs": [
    {
     "name": "stdout",
     "output_type": "stream",
     "text": [
      "The Total Number service status in the file are:  817394\n"
     ]
    }
   ],
   "source": [
    "# the total number of service settings in the data file\n",
    "nc_loc = nc['service_setting'].value_counts()\n",
    "print(\"The Total Number of service status in the file are: \", nc_loc.sum())"
   ]
  },
  {
   "cell_type": "markdown",
   "id": "28700212",
   "metadata": {},
   "source": [
    "# Occurrence of \"context type\" in the data file"
   ]
  },
  {
   "cell_type": "code",
   "execution_count": 29,
   "id": "206bbb78",
   "metadata": {},
   "outputs": [
    {
     "data": {
      "text/plain": [
       "Care Related Encounter    700481\n",
       "Inconsistent Mapping       89494\n",
       "Unmapped                   27419\n",
       "Name: context_type, dtype: int64"
      ]
     },
     "execution_count": 29,
     "metadata": {},
     "output_type": "execute_result"
    }
   ],
   "source": [
    " # nc = national_category.csv data file\n",
    "nc['context_type'].value_counts()"
   ]
  },
  {
   "cell_type": "code",
   "execution_count": 30,
   "id": "b20926bd",
   "metadata": {},
   "outputs": [
    {
     "name": "stdout",
     "output_type": "stream",
     "text": [
      "The Total Number of context types in the file are:  817394\n"
     ]
    }
   ],
   "source": [
    "# the total number of service settings in the data file\n",
    "nc_loc = nc['context_type'].value_counts()\n",
    "print(\"The Total Number of context types in the file are: \", nc_loc.sum())"
   ]
  },
  {
   "cell_type": "markdown",
   "id": "0535fe6a",
   "metadata": {},
   "source": [
    "# Occurrence of \"national category\" in the data file"
   ]
  },
  {
   "cell_type": "code",
   "execution_count": 31,
   "id": "0405b596",
   "metadata": {},
   "outputs": [
    {
     "data": {
      "text/plain": [
       "Inconsistent Mapping                                                   89494\n",
       "General Consultation Routine                                           89329\n",
       "General Consultation Acute                                             84874\n",
       "Planned Clinics                                                        76429\n",
       "Clinical Triage                                                        74539\n",
       "Planned Clinical Procedure                                             59631\n",
       "Structured Medication Review                                           44467\n",
       "Service provided by organisation external to the practice              43095\n",
       "Home Visit                                                             41850\n",
       "Unplanned Clinical Activity                                            40415\n",
       "Patient contact during Care Home Round                                 28795\n",
       "Unmapped                                                               27419\n",
       "Care Home Visit                                                        26644\n",
       "Social Prescribing Service                                             26492\n",
       "Care Home Needs Assessment & Personalised Care and Support Planning    23505\n",
       "Non-contractual chargeable work                                        20896\n",
       "Walk-in                                                                14179\n",
       "Group Consultation and Group Education                                  5341\n",
       "Name: national_category, dtype: int64"
      ]
     },
     "execution_count": 31,
     "metadata": {},
     "output_type": "execute_result"
    }
   ],
   "source": [
    "# nc = national_category.csv data file\n",
    "nc['national_category'].value_counts()"
   ]
  },
  {
   "cell_type": "code",
   "execution_count": 32,
   "id": "d14dd619",
   "metadata": {},
   "outputs": [
    {
     "name": "stdout",
     "output_type": "stream",
     "text": [
      "The Total Number of context types in the file are:  817394\n"
     ]
    }
   ],
   "source": [
    "# the total number of national categories in the data file\n",
    "nc_loc = nc['national_category'].value_counts()\n",
    "print(\"The Total Number of context types in the file are: \", nc_loc.sum())"
   ]
  },
  {
   "cell_type": "code",
   "execution_count": null,
   "id": "2ec71d4c",
   "metadata": {},
   "outputs": [],
   "source": []
  }
 ],
 "metadata": {
  "kernelspec": {
   "display_name": "Python 3 (ipykernel)",
   "language": "python",
   "name": "python3"
  },
  "language_info": {
   "codemirror_mode": {
    "name": "ipython",
    "version": 3
   },
   "file_extension": ".py",
   "mimetype": "text/x-python",
   "name": "python",
   "nbconvert_exporter": "python",
   "pygments_lexer": "ipython3",
   "version": "3.9.12"
  }
 },
 "nbformat": 4,
 "nbformat_minor": 5
}
